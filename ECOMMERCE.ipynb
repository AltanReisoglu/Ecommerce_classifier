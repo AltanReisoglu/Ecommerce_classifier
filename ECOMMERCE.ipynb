{
 "cells": [
  {
   "cell_type": "code",
   "execution_count": 21,
   "id": "367a2990-0a44-48a3-8810-ae8a7a9f694a",
   "metadata": {},
   "outputs": [],
   "source": [
    "import pandas as pd\n",
    "import numpy as np\n",
    "import fasttext\n",
    "import spacy \n",
    "import tensorflow as tf\n",
    "import matplotlib.pyplot as plt\n",
    "dosya=\"C:/Users/bahaa/OneDrive/Masaüstü/some_of_them/archive (4)/bbc_news_text_complexity_summarization.csv\"\n",
    "dosya_2=\"C:/Users/bahaa/OneDrive/Masaüstü/some_of_them/archive (4)/archive/bbc_text_cls.csv\"\n",
    "nlp=spacy.load(\"en_core_web_lg\")"
   ]
  },
  {
   "cell_type": "code",
   "execution_count": 4,
   "id": "a09cae4a-3c3e-425a-b3a2-fb8008baeb22",
   "metadata": {},
   "outputs": [],
   "source": [
    "df=pd.read_csv(dosya)\n",
    "df2=pd.read_csv(dosya_2)"
   ]
  },
  {
   "cell_type": "code",
   "execution_count": 10,
   "id": "d26e0be1-d410-4045-abd1-a7ceb4730fc3",
   "metadata": {},
   "outputs": [
    {
     "data": {
      "text/html": [
       "<div>\n",
       "<style scoped>\n",
       "    .dataframe tbody tr th:only-of-type {\n",
       "        vertical-align: middle;\n",
       "    }\n",
       "\n",
       "    .dataframe tbody tr th {\n",
       "        vertical-align: top;\n",
       "    }\n",
       "\n",
       "    .dataframe thead th {\n",
       "        text-align: right;\n",
       "    }\n",
       "</style>\n",
       "<table border=\"1\" class=\"dataframe\">\n",
       "  <thead>\n",
       "    <tr style=\"text-align: right;\">\n",
       "      <th></th>\n",
       "      <th>text</th>\n",
       "      <th>labels</th>\n",
       "    </tr>\n",
       "  </thead>\n",
       "  <tbody>\n",
       "    <tr>\n",
       "      <th>0</th>\n",
       "      <td>Ad sales boost Time Warner profit\\n\\nQuarterly...</td>\n",
       "      <td>business</td>\n",
       "    </tr>\n",
       "    <tr>\n",
       "      <th>1</th>\n",
       "      <td>Dollar gains on Greenspan speech\\n\\nThe dollar...</td>\n",
       "      <td>business</td>\n",
       "    </tr>\n",
       "    <tr>\n",
       "      <th>2</th>\n",
       "      <td>Yukos unit buyer faces loan claim\\n\\nThe owner...</td>\n",
       "      <td>business</td>\n",
       "    </tr>\n",
       "    <tr>\n",
       "      <th>3</th>\n",
       "      <td>High fuel prices hit BA's profits\\n\\nBritish A...</td>\n",
       "      <td>business</td>\n",
       "    </tr>\n",
       "    <tr>\n",
       "      <th>4</th>\n",
       "      <td>Pernod takeover talk lifts Domecq\\n\\nShares in...</td>\n",
       "      <td>business</td>\n",
       "    </tr>\n",
       "    <tr>\n",
       "      <th>...</th>\n",
       "      <td>...</td>\n",
       "      <td>...</td>\n",
       "    </tr>\n",
       "    <tr>\n",
       "      <th>2220</th>\n",
       "      <td>BT program to beat dialler scams\\n\\nBT is intr...</td>\n",
       "      <td>tech</td>\n",
       "    </tr>\n",
       "    <tr>\n",
       "      <th>2221</th>\n",
       "      <td>Spam e-mails tempt net shoppers\\n\\nComputer us...</td>\n",
       "      <td>tech</td>\n",
       "    </tr>\n",
       "    <tr>\n",
       "      <th>2222</th>\n",
       "      <td>Be careful how you code\\n\\nA new European dire...</td>\n",
       "      <td>tech</td>\n",
       "    </tr>\n",
       "    <tr>\n",
       "      <th>2223</th>\n",
       "      <td>US cyber security chief resigns\\n\\nThe man mak...</td>\n",
       "      <td>tech</td>\n",
       "    </tr>\n",
       "    <tr>\n",
       "      <th>2224</th>\n",
       "      <td>Losing yourself in online gaming\\n\\nOnline rol...</td>\n",
       "      <td>tech</td>\n",
       "    </tr>\n",
       "  </tbody>\n",
       "</table>\n",
       "<p>2225 rows × 2 columns</p>\n",
       "</div>"
      ],
      "text/plain": [
       "                                                   text    labels\n",
       "0     Ad sales boost Time Warner profit\\n\\nQuarterly...  business\n",
       "1     Dollar gains on Greenspan speech\\n\\nThe dollar...  business\n",
       "2     Yukos unit buyer faces loan claim\\n\\nThe owner...  business\n",
       "3     High fuel prices hit BA's profits\\n\\nBritish A...  business\n",
       "4     Pernod takeover talk lifts Domecq\\n\\nShares in...  business\n",
       "...                                                 ...       ...\n",
       "2220  BT program to beat dialler scams\\n\\nBT is intr...      tech\n",
       "2221  Spam e-mails tempt net shoppers\\n\\nComputer us...      tech\n",
       "2222  Be careful how you code\\n\\nA new European dire...      tech\n",
       "2223  US cyber security chief resigns\\n\\nThe man mak...      tech\n",
       "2224  Losing yourself in online gaming\\n\\nOnline rol...      tech\n",
       "\n",
       "[2225 rows x 2 columns]"
      ]
     },
     "execution_count": 10,
     "metadata": {},
     "output_type": "execute_result"
    }
   ],
   "source": [
    "df2"
   ]
  },
  {
   "cell_type": "code",
   "execution_count": 8,
   "id": "674c8877-96de-4613-86ee-a6d38657acad",
   "metadata": {},
   "outputs": [
    {
     "data": {
      "text/plain": [
       "labels\n",
       "sport            505\n",
       "business         503\n",
       "politics         403\n",
       "entertainment    369\n",
       "tech             347\n",
       "Name: count, dtype: int64"
      ]
     },
     "execution_count": 8,
     "metadata": {},
     "output_type": "execute_result"
    }
   ],
   "source": [
    "df.labels.value_counts()"
   ]
  },
  {
   "cell_type": "code",
   "execution_count": 8,
   "id": "a6b12802-9720-4618-a099-b7fa8b442ec3",
   "metadata": {},
   "outputs": [
    {
     "data": {
      "text/plain": [
       "Dream Symbol\n",
       "Easter            2\n",
       "Water             2\n",
       "T                 2\n",
       "Ca                2\n",
       "Aardvark          1\n",
       "                 ..\n",
       "Haunted           1\n",
       "Haunted\\nHouse    1\n",
       "Hawk              1\n",
       "Hay               1\n",
       "Zoomorphism       1\n",
       "Name: count, Length: 898, dtype: int64"
      ]
     },
     "execution_count": 8,
     "metadata": {},
     "output_type": "execute_result"
    }
   ],
   "source": [
    "df[\"Dream Symbol\"].value_counts()"
   ]
  },
  {
   "cell_type": "code",
   "execution_count": 9,
   "id": "8cbc29f6-bf74-4cfd-9e54-9178a81004ad",
   "metadata": {},
   "outputs": [
    {
     "data": {
      "text/html": [
       "<div>\n",
       "<style scoped>\n",
       "    .dataframe tbody tr th:only-of-type {\n",
       "        vertical-align: middle;\n",
       "    }\n",
       "\n",
       "    .dataframe tbody tr th {\n",
       "        vertical-align: top;\n",
       "    }\n",
       "\n",
       "    .dataframe thead th {\n",
       "        text-align: right;\n",
       "    }\n",
       "</style>\n",
       "<table border=\"1\" class=\"dataframe\">\n",
       "  <thead>\n",
       "    <tr style=\"text-align: right;\">\n",
       "      <th></th>\n",
       "      <th>text</th>\n",
       "      <th>labels</th>\n",
       "      <th>no_sentences</th>\n",
       "      <th>Flesch Reading Ease Score</th>\n",
       "      <th>Dale-Chall Readability Score</th>\n",
       "      <th>text_rank_summary</th>\n",
       "      <th>lsa_summary</th>\n",
       "    </tr>\n",
       "  </thead>\n",
       "  <tbody>\n",
       "    <tr>\n",
       "      <th>0</th>\n",
       "      <td>Ad sales boost Time Warner profit\\n\\nQuarterly...</td>\n",
       "      <td>business</td>\n",
       "      <td>26</td>\n",
       "      <td>62.17</td>\n",
       "      <td>9.72</td>\n",
       "      <td>It hopes to increase subscribers by offering t...</td>\n",
       "      <td>Its profits were buoyed by one-off gains which...</td>\n",
       "    </tr>\n",
       "    <tr>\n",
       "      <th>1</th>\n",
       "      <td>Dollar gains on Greenspan speech\\n\\nThe dollar...</td>\n",
       "      <td>business</td>\n",
       "      <td>17</td>\n",
       "      <td>65.56</td>\n",
       "      <td>9.09</td>\n",
       "      <td>The dollar has hit its highest level against t...</td>\n",
       "      <td>\"I think the chairman's taking a much more san...</td>\n",
       "    </tr>\n",
       "    <tr>\n",
       "      <th>2</th>\n",
       "      <td>Yukos unit buyer faces loan claim\\n\\nThe owner...</td>\n",
       "      <td>business</td>\n",
       "      <td>14</td>\n",
       "      <td>69.21</td>\n",
       "      <td>9.66</td>\n",
       "      <td>The owners of embattled Russian oil giant Yuko...</td>\n",
       "      <td>Yukos' owner Menatep Group says it will ask Ro...</td>\n",
       "    </tr>\n",
       "    <tr>\n",
       "      <th>3</th>\n",
       "      <td>High fuel prices hit BA's profits\\n\\nBritish A...</td>\n",
       "      <td>business</td>\n",
       "      <td>24</td>\n",
       "      <td>62.98</td>\n",
       "      <td>9.86</td>\n",
       "      <td>Looking ahead to its full year results to Marc...</td>\n",
       "      <td>Rod Eddington, BA's chief executive, said the ...</td>\n",
       "    </tr>\n",
       "    <tr>\n",
       "      <th>4</th>\n",
       "      <td>Pernod takeover talk lifts Domecq\\n\\nShares in...</td>\n",
       "      <td>business</td>\n",
       "      <td>17</td>\n",
       "      <td>70.63</td>\n",
       "      <td>10.23</td>\n",
       "      <td>Reports in the Wall Street Journal and the Fin...</td>\n",
       "      <td>Shares in UK drinks and food firm Allied Domec...</td>\n",
       "    </tr>\n",
       "    <tr>\n",
       "      <th>...</th>\n",
       "      <td>...</td>\n",
       "      <td>...</td>\n",
       "      <td>...</td>\n",
       "      <td>...</td>\n",
       "      <td>...</td>\n",
       "      <td>...</td>\n",
       "      <td>...</td>\n",
       "    </tr>\n",
       "    <tr>\n",
       "      <th>2122</th>\n",
       "      <td>New consoles promise big problems\\n\\nMaking ga...</td>\n",
       "      <td>tech</td>\n",
       "      <td>52</td>\n",
       "      <td>60.85</td>\n",
       "      <td>9.20</td>\n",
       "      <td>Instead of employing lots of artists to create...</td>\n",
       "      <td>Mr Wright said that enabling players to devise...</td>\n",
       "    </tr>\n",
       "    <tr>\n",
       "      <th>2123</th>\n",
       "      <td>BT program to beat dialler scams\\n\\nBT is intr...</td>\n",
       "      <td>tech</td>\n",
       "      <td>17</td>\n",
       "      <td>56.29</td>\n",
       "      <td>9.23</td>\n",
       "      <td>If a bill rises substantially above its usual ...</td>\n",
       "      <td>BT is introducing two initiatives to help beat...</td>\n",
       "    </tr>\n",
       "    <tr>\n",
       "      <th>2124</th>\n",
       "      <td>Be careful how you code\\n\\nA new European dire...</td>\n",
       "      <td>tech</td>\n",
       "      <td>45</td>\n",
       "      <td>56.29</td>\n",
       "      <td>8.73</td>\n",
       "      <td>If it gets its way, the Dutch government will ...</td>\n",
       "      <td>A new European directive could put software wr...</td>\n",
       "    </tr>\n",
       "    <tr>\n",
       "      <th>2125</th>\n",
       "      <td>US cyber security chief resigns\\n\\nThe man mak...</td>\n",
       "      <td>tech</td>\n",
       "      <td>16</td>\n",
       "      <td>47.42</td>\n",
       "      <td>9.14</td>\n",
       "      <td>Amit Yoran was director of the National Cyber ...</td>\n",
       "      <td>The man making sure US computer networks are s...</td>\n",
       "    </tr>\n",
       "    <tr>\n",
       "      <th>2126</th>\n",
       "      <td>Losing yourself in online gaming\\n\\nOnline rol...</td>\n",
       "      <td>tech</td>\n",
       "      <td>149</td>\n",
       "      <td>68.91</td>\n",
       "      <td>7.15</td>\n",
       "      <td>One unnamed correspondent - all are anonymous ...</td>\n",
       "      <td>Shame they are getting more popular, as you kn...</td>\n",
       "    </tr>\n",
       "  </tbody>\n",
       "</table>\n",
       "<p>2127 rows × 7 columns</p>\n",
       "</div>"
      ],
      "text/plain": [
       "                                                   text    labels  \\\n",
       "0     Ad sales boost Time Warner profit\\n\\nQuarterly...  business   \n",
       "1     Dollar gains on Greenspan speech\\n\\nThe dollar...  business   \n",
       "2     Yukos unit buyer faces loan claim\\n\\nThe owner...  business   \n",
       "3     High fuel prices hit BA's profits\\n\\nBritish A...  business   \n",
       "4     Pernod takeover talk lifts Domecq\\n\\nShares in...  business   \n",
       "...                                                 ...       ...   \n",
       "2122  New consoles promise big problems\\n\\nMaking ga...      tech   \n",
       "2123  BT program to beat dialler scams\\n\\nBT is intr...      tech   \n",
       "2124  Be careful how you code\\n\\nA new European dire...      tech   \n",
       "2125  US cyber security chief resigns\\n\\nThe man mak...      tech   \n",
       "2126  Losing yourself in online gaming\\n\\nOnline rol...      tech   \n",
       "\n",
       "      no_sentences  Flesch Reading Ease Score  Dale-Chall Readability Score  \\\n",
       "0               26                      62.17                          9.72   \n",
       "1               17                      65.56                          9.09   \n",
       "2               14                      69.21                          9.66   \n",
       "3               24                      62.98                          9.86   \n",
       "4               17                      70.63                         10.23   \n",
       "...            ...                        ...                           ...   \n",
       "2122            52                      60.85                          9.20   \n",
       "2123            17                      56.29                          9.23   \n",
       "2124            45                      56.29                          8.73   \n",
       "2125            16                      47.42                          9.14   \n",
       "2126           149                      68.91                          7.15   \n",
       "\n",
       "                                      text_rank_summary  \\\n",
       "0     It hopes to increase subscribers by offering t...   \n",
       "1     The dollar has hit its highest level against t...   \n",
       "2     The owners of embattled Russian oil giant Yuko...   \n",
       "3     Looking ahead to its full year results to Marc...   \n",
       "4     Reports in the Wall Street Journal and the Fin...   \n",
       "...                                                 ...   \n",
       "2122  Instead of employing lots of artists to create...   \n",
       "2123  If a bill rises substantially above its usual ...   \n",
       "2124  If it gets its way, the Dutch government will ...   \n",
       "2125  Amit Yoran was director of the National Cyber ...   \n",
       "2126  One unnamed correspondent - all are anonymous ...   \n",
       "\n",
       "                                            lsa_summary  \n",
       "0     Its profits were buoyed by one-off gains which...  \n",
       "1     \"I think the chairman's taking a much more san...  \n",
       "2     Yukos' owner Menatep Group says it will ask Ro...  \n",
       "3     Rod Eddington, BA's chief executive, said the ...  \n",
       "4     Shares in UK drinks and food firm Allied Domec...  \n",
       "...                                                 ...  \n",
       "2122  Mr Wright said that enabling players to devise...  \n",
       "2123  BT is introducing two initiatives to help beat...  \n",
       "2124  A new European directive could put software wr...  \n",
       "2125  The man making sure US computer networks are s...  \n",
       "2126  Shame they are getting more popular, as you kn...  \n",
       "\n",
       "[2127 rows x 7 columns]"
      ]
     },
     "execution_count": 9,
     "metadata": {},
     "output_type": "execute_result"
    }
   ],
   "source": [
    "df"
   ]
  },
  {
   "cell_type": "code",
   "execution_count": 65,
   "id": "14983759-78a9-486e-810d-68e8321e937f",
   "metadata": {},
   "outputs": [
    {
     "ename": "AttributeError",
     "evalue": "'DataFrame' object has no attribute 'cat'",
     "output_type": "error",
     "traceback": [
      "\u001b[1;31m---------------------------------------------------------------------------\u001b[0m",
      "\u001b[1;31mAttributeError\u001b[0m                            Traceback (most recent call last)",
      "\u001b[1;32m~\\AppData\\Local\\Temp\\ipykernel_2312\\2393552034.py\u001b[0m in \u001b[0;36m?\u001b[1;34m()\u001b[0m\n\u001b[1;32m----> 1\u001b[1;33m \u001b[0mdf\u001b[0m\u001b[1;33m.\u001b[0m\u001b[0mcat\u001b[0m\u001b[1;33m\u001b[0m\u001b[1;33m\u001b[0m\u001b[0m\n\u001b[0m",
      "\u001b[1;32m~\\anaconda3\\envs\\forgpu\\lib\\site-packages\\pandas\\core\\generic.py\u001b[0m in \u001b[0;36m?\u001b[1;34m(self, name)\u001b[0m\n\u001b[0;32m   6295\u001b[0m             \u001b[1;32mand\u001b[0m \u001b[0mname\u001b[0m \u001b[1;32mnot\u001b[0m \u001b[1;32min\u001b[0m \u001b[0mself\u001b[0m\u001b[1;33m.\u001b[0m\u001b[0m_accessors\u001b[0m\u001b[1;33m\u001b[0m\u001b[1;33m\u001b[0m\u001b[0m\n\u001b[0;32m   6296\u001b[0m             \u001b[1;32mand\u001b[0m \u001b[0mself\u001b[0m\u001b[1;33m.\u001b[0m\u001b[0m_info_axis\u001b[0m\u001b[1;33m.\u001b[0m\u001b[0m_can_hold_identifiers_and_holds_name\u001b[0m\u001b[1;33m(\u001b[0m\u001b[0mname\u001b[0m\u001b[1;33m)\u001b[0m\u001b[1;33m\u001b[0m\u001b[1;33m\u001b[0m\u001b[0m\n\u001b[0;32m   6297\u001b[0m         ):\n\u001b[0;32m   6298\u001b[0m             \u001b[1;32mreturn\u001b[0m \u001b[0mself\u001b[0m\u001b[1;33m[\u001b[0m\u001b[0mname\u001b[0m\u001b[1;33m]\u001b[0m\u001b[1;33m\u001b[0m\u001b[1;33m\u001b[0m\u001b[0m\n\u001b[1;32m-> 6299\u001b[1;33m         \u001b[1;32mreturn\u001b[0m \u001b[0mobject\u001b[0m\u001b[1;33m.\u001b[0m\u001b[0m__getattribute__\u001b[0m\u001b[1;33m(\u001b[0m\u001b[0mself\u001b[0m\u001b[1;33m,\u001b[0m \u001b[0mname\u001b[0m\u001b[1;33m)\u001b[0m\u001b[1;33m\u001b[0m\u001b[1;33m\u001b[0m\u001b[0m\n\u001b[0m",
      "\u001b[1;31mAttributeError\u001b[0m: 'DataFrame' object has no attribute 'cat'"
     ]
    }
   ],
   "source": [
    "df.cat"
   ]
  },
  {
   "cell_type": "code",
   "execution_count": 32,
   "id": "91592671-4695-4cce-8c58-b6e73df677eb",
   "metadata": {},
   "outputs": [
    {
     "name": "stdout",
     "output_type": "stream",
     "text": [
      "ad sale boost Time Warner profit \n",
      "\n",
      " Quarterly profit medium giant TimeWarner jump 76 $ 1.13bn £ 600 m month December $ 639 m year early \n",
      "\n",
      " firm big investor Google benefit sale high speed internet connection high advert sale TimeWarner say fourth quarter sale rise 2 $ 11.1bn $ 10.9bn profit buoy gain offset profit dip Warner Bros user AOL \n",
      "\n",
      " Time Warner say Friday own 8 search engine Google internet business AOL mixed fortune lose 464,000 subscriber fourth quarter profit low precede quarter company say AOL underlie profit exceptional item rise 8 strong internet advertising revenue hope increase subscriber offer online service free TimeWarner internet customer try sign AOL exist customer high speed broadband TimeWarner restate 2000 2003 result follow probe Securities Exchange Commission SEC close conclude \n",
      "\n",
      " Time Warner fourth quarter profit slightly well analyst expectation film division see profit slump 27 $ 284 m help box office flop Alexander Catwoman sharp contrast year early final film Lord Rings trilogy boost result year TimeWarner post profit $ 3.36bn 27 2003 performance revenue grow 6.4 $ 42.09bn financial performance strong meeting exceed year objective greatly enhance flexibility chairman chief executive Richard Parsons say 2005 TimeWarner project operate earning growth 5 expect high revenue wide profit margin \n",
      "\n",
      " TimeWarner restate account effort resolve inquiry AOL market regulator offer pay $ 300 m settle charge deal review SEC company say unable estimate need set aside legal reserve previously set $ 500 m. intend adjust way account deal german music publisher Bertelsmann purchase stake AOL Europe report advertising revenue book sale stake AOL Europe loss value stake\n"
     ]
    }
   ],
   "source": [
    "doc=nlp('Ad sales boost Time Warner profit\\n\\nQuarterly profits at US media giant TimeWarner jumped 76% to $1.13bn (£600m) for the three months to December, from $639m year-earlier.\\n\\nThe firm, which is now one of the biggest investors in Google, benefited from sales of high-speed internet connections and higher advert sales. TimeWarner said fourth quarter sales rose 2% to $11.1bn from $10.9bn. Its profits were buoyed by one-off gains which offset a profit dip at Warner Bros, and less users for AOL.\\n\\nTime Warner said on Friday that it now owns 8% of search-engine Google. But its own internet business, AOL, had has mixed fortunes. It lost 464,000 subscribers in the fourth quarter profits were lower than in the preceding three quarters. However, the company said AOL\\'s underlying profit before exceptional items rose 8% on the back of stronger internet advertising revenues. It hopes to increase subscribers by offering the online service free to TimeWarner internet customers and will try to sign up AOL\\'s existing customers for high-speed broadband. TimeWarner also has to restate 2000 and 2003 results following a probe by the US Securities Exchange Commission (SEC), which is close to concluding.\\n\\nTime Warner\\'s fourth quarter profits were slightly better than analysts\\' expectations. But its film division saw profits slump 27% to $284m, helped by box-office flops Alexander and Catwoman, a sharp contrast to year-earlier, when the third and final film in the Lord of the Rings trilogy boosted results. For the full-year, TimeWarner posted a profit of $3.36bn, up 27% from its 2003 performance, while revenues grew 6.4% to $42.09bn. \"Our financial performance was strong, meeting or exceeding all of our full-year objectives and greatly enhancing our flexibility,\" chairman and chief executive Richard Parsons said. For 2005, TimeWarner is projecting operating earnings growth of around 5%, and also expects higher revenue and wider profit margins.\\n\\nTimeWarner is to restate its accounts as part of efforts to resolve an inquiry into AOL by US market regulators. It has already offered to pay $300m to settle charges, in a deal that is under review by the SEC. The company said it was unable to estimate the amount it needed to set aside for legal reserves, which it previously set at $500m. It intends to adjust the way it accounts for a deal with German music publisher Bertelsmann\\'s purchase of a stake in AOL Europe, which it had reported as advertising revenue. It will now book the sale of its stake in AOL Europe as a loss on the value of that stake.')\n",
    "lemmm=[]\n",
    "for i in doc:\n",
    "    if i.is_stop or i.is_punct :\n",
    "            continue\n",
    "    lemmm.append(i.lemma_)\n",
    "print(\" \".join(lemmm))"
   ]
  },
  {
   "cell_type": "code",
   "execution_count": 24,
   "id": "1596b16b-fa6c-483d-826d-0219b793c052",
   "metadata": {},
   "outputs": [],
   "source": [
    "import fasttext\n",
    "from gensim.models.fasttext import load_facebook_model\n",
    "\n",
    "model = load_facebook_model(\"C:/Users/bahaa/OneDrive/Masaüstü/some_of_them/cc/cc.en.300.bin\")\n"
   ]
  },
  {
   "cell_type": "code",
   "execution_count": 25,
   "id": "1c16ab0d-2b3d-4ebb-82e7-642403304b29",
   "metadata": {},
   "outputs": [],
   "source": [
    "\n",
    "\n",
    "# FastText'in önceden eğitilmiş modelini yükle\n",
    "\n",
    "\n",
    "word_embeddings=[]\n",
    "# Metin verisini işleme\n",
    "def get_fasttext_embedding(text):\n",
    "    doc=nlp(text)\n",
    "    for i in doc:\n",
    "        if i.is_stop or i.is_punct :\n",
    "            continue\n",
    "        word_embeddings.append(model.wv.get_vector(i.lemma_))\n",
    "    \n",
    "   \n",
    "   \n",
    "    return np.mean(word_embeddings, axis=0)\n",
    "\n"
   ]
  },
  {
   "cell_type": "code",
   "execution_count": 56,
   "id": "4cfe18cd-033b-42e9-bc88-3d8581ded573",
   "metadata": {},
   "outputs": [],
   "source": [
    "vectorized=df.text.apply(get_fasttext_embedding)"
   ]
  },
  {
   "cell_type": "code",
   "execution_count": 117,
   "id": "27663bb4-4e45-430f-884b-8087abac1539",
   "metadata": {},
   "outputs": [
    {
     "data": {
      "text/plain": [
       "0       [-0.030071035, 0.00051816285, 0.01606719, 0.01...\n",
       "1       [-0.022767203, 0.00504805, 0.017094612, 0.0359...\n",
       "2       [-0.021361515, 0.0048008645, 0.019433843, 0.03...\n",
       "3       [-0.022750938, 0.0032526974, 0.009324911, 0.02...\n",
       "4       [-0.02208829, 0.004993851, 0.010119786, 0.0271...\n",
       "                              ...                        \n",
       "2122    [-0.011946443, 0.012611068, 0.012210985, 0.038...\n",
       "2123    [-0.011941227, 0.012612911, 0.012216947, 0.038...\n",
       "2124    [-0.011942599, 0.012609888, 0.012222467, 0.038...\n",
       "2125    [-0.011946502, 0.012600967, 0.012229756, 0.038...\n",
       "2126    [-0.011892334, 0.0126229115, 0.012213262, 0.03...\n",
       "Name: text, Length: 2127, dtype: object"
      ]
     },
     "execution_count": 117,
     "metadata": {},
     "output_type": "execute_result"
    }
   ],
   "source": [
    "vectorized"
   ]
  },
  {
   "cell_type": "code",
   "execution_count": 11,
   "id": "4b719a74-a7bc-4c3e-938a-2af5b35bdf00",
   "metadata": {},
   "outputs": [],
   "source": [
    "import spacy"
   ]
  },
  {
   "cell_type": "code",
   "execution_count": 29,
   "id": "c848fb7c-f560-4e39-b258-0bcc7da6b274",
   "metadata": {},
   "outputs": [
    {
     "data": {
      "text/plain": [
       "text                             object\n",
       "labels                           object\n",
       "no_sentences                      int64\n",
       "Flesch Reading Ease Score       float64\n",
       "Dale-Chall Readability Score    float64\n",
       "text_rank_summary                object\n",
       "lsa_summary                      object\n",
       "dtype: object"
      ]
     },
     "execution_count": 29,
     "metadata": {},
     "output_type": "execute_result"
    }
   ],
   "source": [
    "df.dtypes\n",
    "    "
   ]
  },
  {
   "cell_type": "code",
   "execution_count": 36,
   "id": "05539956-e1fa-4d4e-89a0-8e5ed28afcbc",
   "metadata": {},
   "outputs": [],
   "source": [
    "boolean_degers=pd.get_dummies(df.labels,columns=[\"labels\"])"
   ]
  },
  {
   "cell_type": "code",
   "execution_count": 37,
   "id": "38376aaf-eeaf-4fc9-8f61-3bcb661eaa01",
   "metadata": {},
   "outputs": [
    {
     "data": {
      "text/html": [
       "<div>\n",
       "<style scoped>\n",
       "    .dataframe tbody tr th:only-of-type {\n",
       "        vertical-align: middle;\n",
       "    }\n",
       "\n",
       "    .dataframe tbody tr th {\n",
       "        vertical-align: top;\n",
       "    }\n",
       "\n",
       "    .dataframe thead th {\n",
       "        text-align: right;\n",
       "    }\n",
       "</style>\n",
       "<table border=\"1\" class=\"dataframe\">\n",
       "  <thead>\n",
       "    <tr style=\"text-align: right;\">\n",
       "      <th></th>\n",
       "      <th>business</th>\n",
       "      <th>entertainment</th>\n",
       "      <th>politics</th>\n",
       "      <th>sport</th>\n",
       "      <th>tech</th>\n",
       "    </tr>\n",
       "  </thead>\n",
       "  <tbody>\n",
       "    <tr>\n",
       "      <th>0</th>\n",
       "      <td>True</td>\n",
       "      <td>False</td>\n",
       "      <td>False</td>\n",
       "      <td>False</td>\n",
       "      <td>False</td>\n",
       "    </tr>\n",
       "    <tr>\n",
       "      <th>1</th>\n",
       "      <td>True</td>\n",
       "      <td>False</td>\n",
       "      <td>False</td>\n",
       "      <td>False</td>\n",
       "      <td>False</td>\n",
       "    </tr>\n",
       "    <tr>\n",
       "      <th>2</th>\n",
       "      <td>True</td>\n",
       "      <td>False</td>\n",
       "      <td>False</td>\n",
       "      <td>False</td>\n",
       "      <td>False</td>\n",
       "    </tr>\n",
       "    <tr>\n",
       "      <th>3</th>\n",
       "      <td>True</td>\n",
       "      <td>False</td>\n",
       "      <td>False</td>\n",
       "      <td>False</td>\n",
       "      <td>False</td>\n",
       "    </tr>\n",
       "    <tr>\n",
       "      <th>4</th>\n",
       "      <td>True</td>\n",
       "      <td>False</td>\n",
       "      <td>False</td>\n",
       "      <td>False</td>\n",
       "      <td>False</td>\n",
       "    </tr>\n",
       "    <tr>\n",
       "      <th>...</th>\n",
       "      <td>...</td>\n",
       "      <td>...</td>\n",
       "      <td>...</td>\n",
       "      <td>...</td>\n",
       "      <td>...</td>\n",
       "    </tr>\n",
       "    <tr>\n",
       "      <th>2122</th>\n",
       "      <td>False</td>\n",
       "      <td>False</td>\n",
       "      <td>False</td>\n",
       "      <td>False</td>\n",
       "      <td>True</td>\n",
       "    </tr>\n",
       "    <tr>\n",
       "      <th>2123</th>\n",
       "      <td>False</td>\n",
       "      <td>False</td>\n",
       "      <td>False</td>\n",
       "      <td>False</td>\n",
       "      <td>True</td>\n",
       "    </tr>\n",
       "    <tr>\n",
       "      <th>2124</th>\n",
       "      <td>False</td>\n",
       "      <td>False</td>\n",
       "      <td>False</td>\n",
       "      <td>False</td>\n",
       "      <td>True</td>\n",
       "    </tr>\n",
       "    <tr>\n",
       "      <th>2125</th>\n",
       "      <td>False</td>\n",
       "      <td>False</td>\n",
       "      <td>False</td>\n",
       "      <td>False</td>\n",
       "      <td>True</td>\n",
       "    </tr>\n",
       "    <tr>\n",
       "      <th>2126</th>\n",
       "      <td>False</td>\n",
       "      <td>False</td>\n",
       "      <td>False</td>\n",
       "      <td>False</td>\n",
       "      <td>True</td>\n",
       "    </tr>\n",
       "  </tbody>\n",
       "</table>\n",
       "<p>2127 rows × 5 columns</p>\n",
       "</div>"
      ],
      "text/plain": [
       "      business  entertainment  politics  sport   tech\n",
       "0         True          False     False  False  False\n",
       "1         True          False     False  False  False\n",
       "2         True          False     False  False  False\n",
       "3         True          False     False  False  False\n",
       "4         True          False     False  False  False\n",
       "...        ...            ...       ...    ...    ...\n",
       "2122     False          False     False  False   True\n",
       "2123     False          False     False  False   True\n",
       "2124     False          False     False  False   True\n",
       "2125     False          False     False  False   True\n",
       "2126     False          False     False  False   True\n",
       "\n",
       "[2127 rows x 5 columns]"
      ]
     },
     "execution_count": 37,
     "metadata": {},
     "output_type": "execute_result"
    }
   ],
   "source": [
    "boolean_degers"
   ]
  },
  {
   "cell_type": "code",
   "execution_count": 48,
   "id": "04f07c91-e48b-4e5e-97b3-aceb709d9b07",
   "metadata": {},
   "outputs": [],
   "source": [
    "numeric_Datas=pd.DataFrame()\n",
    "numeric_Datas[\"flesch\"]=df[\"Flesch Reading Ease Score\"]\n",
    "numeric_Datas[\"dale\"]=df[\"Dale-Chall Readability Score\"]"
   ]
  },
  {
   "cell_type": "code",
   "execution_count": 53,
   "id": "b353d8bc-1aa6-427e-9c41-c0ac1951f318",
   "metadata": {},
   "outputs": [],
   "source": [
    "scaler = StandardScaler()\n",
    "numerical_data_scaled = scaler.fit_transform(numeric_Datas.values)"
   ]
  },
  {
   "cell_type": "code",
   "execution_count": 54,
   "id": "e607a9bc-96ad-4b23-9087-6c01314e1b63",
   "metadata": {},
   "outputs": [
    {
     "data": {
      "text/plain": [
       "array([[-0.17432534,  0.6980648 ],\n",
       "       [ 0.22617876, -0.06754452],\n",
       "       [ 0.65739999,  0.62514963],\n",
       "       ...,\n",
       "       [-0.86900503, -0.50503556],\n",
       "       [-1.9169317 , -0.00678188],\n",
       "       [ 0.62195715, -2.42513514]])"
      ]
     },
     "execution_count": 54,
     "metadata": {},
     "output_type": "execute_result"
    }
   ],
   "source": [
    "numerical_data_scaled"
   ]
  },
  {
   "cell_type": "code",
   "execution_count": 57,
   "id": "4cd672c9-0902-4edc-afc8-b87e0ce3253a",
   "metadata": {},
   "outputs": [],
   "source": [
    "final_input = np.concatenate([vectorized, numerical_data_scaled.flatten()])"
   ]
  },
  {
   "cell_type": "code",
   "execution_count": 124,
   "id": "9ade4b36-baa1-41de-9bf3-46519bbf385e",
   "metadata": {},
   "outputs": [
    {
     "data": {
      "text/plain": [
       "4254"
      ]
     },
     "execution_count": 124,
     "metadata": {},
     "output_type": "execute_result"
    }
   ],
   "source": [
    "len(numerical_data_scaled.flatten())"
   ]
  },
  {
   "cell_type": "code",
   "execution_count": 138,
   "id": "9951f13c-91f8-464d-9c92-9ca65a7a862e",
   "metadata": {},
   "outputs": [],
   "source": [
    "def create_model():\n",
    "    model=tf.keras.Sequential([\n",
    "        tf.keras.layers.Dense(64,input_shape=(300,), activation='relu'),\n",
    "        tf.keras.layers.Dense(32,activation=\"relu\"),\n",
    "        tf.keras.layers.Dense(5,activation=\"softmax\")\n",
    "    ])\n",
    "    model.compile(\n",
    "        loss=tf.keras.losses.CategoricalCrossentropy(),\n",
    "        optimizer=tf.keras.optimizers.Adam(),\n",
    "        metrics=[\"accuracy\"]\n",
    "    )\n",
    "    return model"
   ]
  },
  {
   "cell_type": "code",
   "execution_count": 139,
   "id": "cf6e2557-3345-44d5-ab73-4a1f4bef1eae",
   "metadata": {},
   "outputs": [],
   "source": [
    "def early_stopping_for_valids():\n",
    "        early_stopping = tf.keras.callbacks.EarlyStopping(monitor=\"accuracy\",\n",
    "                                                  patience=3)\n",
    "        return early_stopping   \n"
   ]
  },
  {
   "cell_type": "code",
   "execution_count": 140,
   "id": "82b679a3-9228-4108-a1c2-3d2dfb933f1c",
   "metadata": {},
   "outputs": [],
   "source": [
    "x_train_stacked=np.stack(vectorized)\n"
   ]
  },
  {
   "cell_type": "code",
   "execution_count": 141,
   "id": "8837b048-aa93-46b8-acdd-dd8ccddf58a2",
   "metadata": {},
   "outputs": [
    {
     "data": {
      "text/plain": [
       "2127"
      ]
     },
     "execution_count": 141,
     "metadata": {},
     "output_type": "execute_result"
    }
   ],
   "source": [
    "len(x_train_stacked)"
   ]
  },
  {
   "cell_type": "code",
   "execution_count": 142,
   "id": "5e47c08f-1f59-40e0-ac43-ab0e365c5501",
   "metadata": {},
   "outputs": [
    {
     "data": {
      "text/html": [
       "<div>\n",
       "<style scoped>\n",
       "    .dataframe tbody tr th:only-of-type {\n",
       "        vertical-align: middle;\n",
       "    }\n",
       "\n",
       "    .dataframe tbody tr th {\n",
       "        vertical-align: top;\n",
       "    }\n",
       "\n",
       "    .dataframe thead th {\n",
       "        text-align: right;\n",
       "    }\n",
       "</style>\n",
       "<table border=\"1\" class=\"dataframe\">\n",
       "  <thead>\n",
       "    <tr style=\"text-align: right;\">\n",
       "      <th></th>\n",
       "      <th>business</th>\n",
       "      <th>entertainment</th>\n",
       "      <th>politics</th>\n",
       "      <th>sport</th>\n",
       "      <th>tech</th>\n",
       "    </tr>\n",
       "  </thead>\n",
       "  <tbody>\n",
       "    <tr>\n",
       "      <th>0</th>\n",
       "      <td>True</td>\n",
       "      <td>False</td>\n",
       "      <td>False</td>\n",
       "      <td>False</td>\n",
       "      <td>False</td>\n",
       "    </tr>\n",
       "    <tr>\n",
       "      <th>1</th>\n",
       "      <td>True</td>\n",
       "      <td>False</td>\n",
       "      <td>False</td>\n",
       "      <td>False</td>\n",
       "      <td>False</td>\n",
       "    </tr>\n",
       "    <tr>\n",
       "      <th>2</th>\n",
       "      <td>True</td>\n",
       "      <td>False</td>\n",
       "      <td>False</td>\n",
       "      <td>False</td>\n",
       "      <td>False</td>\n",
       "    </tr>\n",
       "    <tr>\n",
       "      <th>3</th>\n",
       "      <td>True</td>\n",
       "      <td>False</td>\n",
       "      <td>False</td>\n",
       "      <td>False</td>\n",
       "      <td>False</td>\n",
       "    </tr>\n",
       "    <tr>\n",
       "      <th>4</th>\n",
       "      <td>True</td>\n",
       "      <td>False</td>\n",
       "      <td>False</td>\n",
       "      <td>False</td>\n",
       "      <td>False</td>\n",
       "    </tr>\n",
       "    <tr>\n",
       "      <th>...</th>\n",
       "      <td>...</td>\n",
       "      <td>...</td>\n",
       "      <td>...</td>\n",
       "      <td>...</td>\n",
       "      <td>...</td>\n",
       "    </tr>\n",
       "    <tr>\n",
       "      <th>2122</th>\n",
       "      <td>False</td>\n",
       "      <td>False</td>\n",
       "      <td>False</td>\n",
       "      <td>False</td>\n",
       "      <td>True</td>\n",
       "    </tr>\n",
       "    <tr>\n",
       "      <th>2123</th>\n",
       "      <td>False</td>\n",
       "      <td>False</td>\n",
       "      <td>False</td>\n",
       "      <td>False</td>\n",
       "      <td>True</td>\n",
       "    </tr>\n",
       "    <tr>\n",
       "      <th>2124</th>\n",
       "      <td>False</td>\n",
       "      <td>False</td>\n",
       "      <td>False</td>\n",
       "      <td>False</td>\n",
       "      <td>True</td>\n",
       "    </tr>\n",
       "    <tr>\n",
       "      <th>2125</th>\n",
       "      <td>False</td>\n",
       "      <td>False</td>\n",
       "      <td>False</td>\n",
       "      <td>False</td>\n",
       "      <td>True</td>\n",
       "    </tr>\n",
       "    <tr>\n",
       "      <th>2126</th>\n",
       "      <td>False</td>\n",
       "      <td>False</td>\n",
       "      <td>False</td>\n",
       "      <td>False</td>\n",
       "      <td>True</td>\n",
       "    </tr>\n",
       "  </tbody>\n",
       "</table>\n",
       "<p>2127 rows × 5 columns</p>\n",
       "</div>"
      ],
      "text/plain": [
       "      business  entertainment  politics  sport   tech\n",
       "0         True          False     False  False  False\n",
       "1         True          False     False  False  False\n",
       "2         True          False     False  False  False\n",
       "3         True          False     False  False  False\n",
       "4         True          False     False  False  False\n",
       "...        ...            ...       ...    ...    ...\n",
       "2122     False          False     False  False   True\n",
       "2123     False          False     False  False   True\n",
       "2124     False          False     False  False   True\n",
       "2125     False          False     False  False   True\n",
       "2126     False          False     False  False   True\n",
       "\n",
       "[2127 rows x 5 columns]"
      ]
     },
     "execution_count": 142,
     "metadata": {},
     "output_type": "execute_result"
    }
   ],
   "source": [
    "boolean_degers"
   ]
  },
  {
   "cell_type": "code",
   "execution_count": 149,
   "id": "8bd597de-1b01-4066-a270-361509f12d0b",
   "metadata": {},
   "outputs": [],
   "source": [
    "def train_model():\n",
    "    model=create_model()\n",
    "    model.fit(x_train_stacked,boolean_degers.values,epochs=100,callbacks=[early_stopping_for_valids()])"
   ]
  },
  {
   "cell_type": "code",
   "execution_count": 150,
   "id": "5614604e-80b1-4c89-9b50-03f633960090",
   "metadata": {},
   "outputs": [
    {
     "name": "stdout",
     "output_type": "stream",
     "text": [
      "Epoch 1/100\n",
      "67/67 [==============================] - 2s 16ms/step - loss: 1.5542 - accuracy: 0.4264\n",
      "Epoch 2/100\n",
      "67/67 [==============================] - 1s 16ms/step - loss: 1.2602 - accuracy: 0.4758\n",
      "Epoch 3/100\n",
      "67/67 [==============================] - 1s 15ms/step - loss: 0.9460 - accuracy: 0.5910\n",
      "Epoch 4/100\n",
      "67/67 [==============================] - 1s 15ms/step - loss: 0.7778 - accuracy: 0.7000\n",
      "Epoch 5/100\n",
      "67/67 [==============================] - 1s 16ms/step - loss: 0.6525 - accuracy: 0.7395\n",
      "Epoch 6/100\n",
      "67/67 [==============================] - 1s 16ms/step - loss: 0.5595 - accuracy: 0.8143\n",
      "Epoch 7/100\n",
      "67/67 [==============================] - 1s 15ms/step - loss: 0.4872 - accuracy: 0.9060\n",
      "Epoch 8/100\n",
      "67/67 [==============================] - 1s 16ms/step - loss: 0.4328 - accuracy: 0.9093\n",
      "Epoch 9/100\n",
      "67/67 [==============================] - 1s 15ms/step - loss: 0.3884 - accuracy: 0.8980\n",
      "Epoch 10/100\n",
      "67/67 [==============================] - 1s 15ms/step - loss: 0.3515 - accuracy: 0.9201\n",
      "Epoch 11/100\n",
      "67/67 [==============================] - 1s 15ms/step - loss: 0.3200 - accuracy: 0.9243\n",
      "Epoch 12/100\n",
      "67/67 [==============================] - 1s 15ms/step - loss: 0.2951 - accuracy: 0.9304\n",
      "Epoch 13/100\n",
      "67/67 [==============================] - 1s 15ms/step - loss: 0.2715 - accuracy: 0.9304\n",
      "Epoch 14/100\n",
      "67/67 [==============================] - 1s 15ms/step - loss: 0.2562 - accuracy: 0.9361\n",
      "Epoch 15/100\n",
      "67/67 [==============================] - 1s 15ms/step - loss: 0.2381 - accuracy: 0.9389\n",
      "Epoch 16/100\n",
      "67/67 [==============================] - 1s 15ms/step - loss: 0.2238 - accuracy: 0.9450\n",
      "Epoch 17/100\n",
      "67/67 [==============================] - 1s 16ms/step - loss: 0.2125 - accuracy: 0.9417\n",
      "Epoch 18/100\n",
      "67/67 [==============================] - 1s 15ms/step - loss: 0.2014 - accuracy: 0.9539\n",
      "Epoch 19/100\n",
      "67/67 [==============================] - 1s 15ms/step - loss: 0.1932 - accuracy: 0.9582\n",
      "Epoch 20/100\n",
      "67/67 [==============================] - 1s 14ms/step - loss: 0.1826 - accuracy: 0.9553\n",
      "Epoch 21/100\n",
      "67/67 [==============================] - 1s 14ms/step - loss: 0.1789 - accuracy: 0.9525\n",
      "Epoch 22/100\n",
      "67/67 [==============================] - 1s 15ms/step - loss: 0.1706 - accuracy: 0.9600\n",
      "Epoch 23/100\n",
      "67/67 [==============================] - 1s 15ms/step - loss: 0.1661 - accuracy: 0.9516\n",
      "Epoch 24/100\n",
      "67/67 [==============================] - 1s 14ms/step - loss: 0.1606 - accuracy: 0.9591\n",
      "Epoch 25/100\n",
      "67/67 [==============================] - 1s 14ms/step - loss: 0.1514 - accuracy: 0.9680\n",
      "Epoch 26/100\n",
      "67/67 [==============================] - 1s 15ms/step - loss: 0.1465 - accuracy: 0.9647\n",
      "Epoch 27/100\n",
      "67/67 [==============================] - 1s 15ms/step - loss: 0.1486 - accuracy: 0.9605\n",
      "Epoch 28/100\n",
      "67/67 [==============================] - 1s 15ms/step - loss: 0.1423 - accuracy: 0.9647\n"
     ]
    }
   ],
   "source": [
    "model=train_model()"
   ]
  },
  {
   "cell_type": "code",
   "execution_count": null,
   "id": "a19c1eeb-ff74-4f76-9b39-99e1727bf060",
   "metadata": {},
   "outputs": [],
   "source": []
  },
  {
   "cell_type": "code",
   "execution_count": 145,
   "id": "75893695-b386-49f6-866a-d5e122309f6d",
   "metadata": {},
   "outputs": [
    {
     "data": {
      "text/plain": [
       "2127"
      ]
     },
     "execution_count": 145,
     "metadata": {},
     "output_type": "execute_result"
    }
   ],
   "source": [
    "len(x_train_stacked)"
   ]
  },
  {
   "cell_type": "code",
   "execution_count": 146,
   "id": "d2ad3176-5229-4096-bee2-a4d389999cb0",
   "metadata": {},
   "outputs": [
    {
     "ename": "NameError",
     "evalue": "name 'y' is not defined",
     "output_type": "error",
     "traceback": [
      "\u001b[1;31m---------------------------------------------------------------------------\u001b[0m",
      "\u001b[1;31mNameError\u001b[0m                                 Traceback (most recent call last)",
      "Cell \u001b[1;32mIn[146], line 1\u001b[0m\n\u001b[1;32m----> 1\u001b[0m \u001b[43my\u001b[49m\n",
      "\u001b[1;31mNameError\u001b[0m: name 'y' is not defined"
     ]
    }
   ],
   "source": [
    "y"
   ]
  },
  {
   "cell_type": "code",
   "execution_count": null,
   "id": "d1378a94-f099-4a2e-9d9f-fa83753a41dc",
   "metadata": {},
   "outputs": [],
   "source": []
  },
  {
   "cell_type": "code",
   "execution_count": null,
   "id": "4bfc6a01-492a-498d-bedc-a685c84ffdb6",
   "metadata": {},
   "outputs": [],
   "source": []
  },
  {
   "cell_type": "code",
   "execution_count": null,
   "id": "d03f3fc7-308e-4164-8cd8-4708fd430c1a",
   "metadata": {},
   "outputs": [],
   "source": []
  }
 ],
 "metadata": {
  "kernelspec": {
   "display_name": "Python 3 (ipykernel)",
   "language": "python",
   "name": "python3"
  },
  "language_info": {
   "codemirror_mode": {
    "name": "ipython",
    "version": 3
   },
   "file_extension": ".py",
   "mimetype": "text/x-python",
   "name": "python",
   "nbconvert_exporter": "python",
   "pygments_lexer": "ipython3",
   "version": "3.10.15"
  }
 },
 "nbformat": 4,
 "nbformat_minor": 5
}
